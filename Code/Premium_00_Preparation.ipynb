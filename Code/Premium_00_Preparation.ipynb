{
 "cells": [
  {
   "cell_type": "markdown",
   "metadata": {},
   "source": [
    "## 0.Data Preparation"
   ]
  },
  {
   "cell_type": "code",
   "execution_count": 4,
   "metadata": {},
   "outputs": [],
   "source": [
    "import os\n",
    "import numpy as np\n",
    "import pandas as pd\n",
    "import warnings\n",
    "warnings.filterwarnings(\"ignore\")\n",
    "import lightgbm as lgb\n",
    "from lightgbm import LGBMClassifier\n",
    "from bayes_opt import BayesianOptimization\n",
    "from sklearn.model_selection import GridSearchCV\n",
    "import matplotlib.pyplot as plt"
   ]
  },
  {
   "cell_type": "code",
   "execution_count": 3,
   "metadata": {},
   "outputs": [],
   "source": [
    "default_path = \"/Users/mayritaspring/Desktop/T-Brain/Next-Premium-Prediction/\"\n",
    "os.chdir(default_path)\n",
    "\n",
    "# read data\n",
    "claim = pd.read_csv('../Data/claim_0702.csv')\n",
    "policy = pd.read_csv('../Data/policy_0702.csv')"
   ]
  },
  {
   "cell_type": "markdown",
   "metadata": {},
   "source": [
    "## 1.Data Description"
   ]
  },
  {
   "cell_type": "code",
   "execution_count": 39,
   "metadata": {},
   "outputs": [
    {
     "name": "stdout",
     "output_type": "stream",
     "text": [
      "<class 'pandas.core.frame.DataFrame'>\n",
      "RangeIndex: 69613 entries, 0 to 69612\n",
      "Data columns (total 20 columns):\n",
      "Claim_Number                              69613 non-null object\n",
      "Nature_of_the_claim                       69613 non-null int64\n",
      "Policy_Number                             69613 non-null object\n",
      "Driver's_Gender                           69613 non-null int64\n",
      "Driver's_Relationship_with_Insured        69613 non-null int64\n",
      "DOB_of_Driver                             69613 non-null object\n",
      "Marital_Status_of_Driver                  69613 non-null int64\n",
      "Accident_Date                             69613 non-null object\n",
      "Cause_of_Loss                             69613 non-null object\n",
      "Paid_Loss_Amount                          69613 non-null int64\n",
      "paid_Expenses_Amount                      69613 non-null int64\n",
      "Salvage_or_Subrogation?                   69613 non-null int64\n",
      "Coverage                                  69613 non-null object\n",
      "Vehicle_identifier                        69315 non-null object\n",
      "At_Fault?                                 69574 non-null float64\n",
      "Claim_Status_(close,_open,_reopen_etc)    69613 non-null int64\n",
      "Deductible                                69613 non-null int64\n",
      "Accident_area                             69613 non-null object\n",
      "number_of_claimants                       69613 non-null float64\n",
      "Accident_Time                             69613 non-null object\n",
      "dtypes: float64(2), int64(9), object(9)\n",
      "memory usage: 10.6+ MB\n"
     ]
    },
    {
     "data": {
      "text/plain": [
       "Index(['Claim_Number', 'Nature_of_the_claim', 'Policy_Number',\n",
       "       'Driver's_Gender', 'Driver's_Relationship_with_Insured',\n",
       "       'DOB_of_Driver', 'Marital_Status_of_Driver', 'Accident_Date',\n",
       "       'Cause_of_Loss', 'Paid_Loss_Amount', 'paid_Expenses_Amount',\n",
       "       'Salvage_or_Subrogation?', 'Coverage', 'Vehicle_identifier',\n",
       "       'At_Fault?', 'Claim_Status_(close,_open,_reopen_etc)', 'Deductible',\n",
       "       'Accident_area', 'number_of_claimants', 'Accident_Time'],\n",
       "      dtype='object')"
      ]
     },
     "execution_count": 39,
     "metadata": {},
     "output_type": "execute_result"
    }
   ],
   "source": [
    "claim.head(5)\n",
    "claim.info()\n",
    "claim.columns"
   ]
  },
  {
   "cell_type": "code",
   "execution_count": 6,
   "metadata": {},
   "outputs": [
    {
     "name": "stdout",
     "output_type": "stream",
     "text": [
      "<class 'pandas.core.frame.DataFrame'>\n",
      "RangeIndex: 1747942 entries, 0 to 1747941\n",
      "Data columns (total 41 columns):\n",
      "Policy_Number                                 object\n",
      "Insured's_ID                                  object\n",
      "Prior_Policy_Number                           object\n",
      "Cancellation                                  object\n",
      "Vehicle_identifier                            object\n",
      "Vehicle_Make_and_Model1                       object\n",
      "Vehicle_Make_and_Model2                       object\n",
      "Manafactured_Year_and_Month                   int64\n",
      "Engine_Displacement_(Cubic_Centimeter)        int64\n",
      "Imported_or_Domestic_Car                      int64\n",
      "Coding_of_Vehicle_Branding_&_Type             object\n",
      "qpt                                           float64\n",
      "fpt                                           object\n",
      "Main_Insurance_Coverage_Group                 object\n",
      "Insurance_Coverage                            object\n",
      "Insured_Amount1                               int64\n",
      "Insured_Amount2                               int64\n",
      "Insured_Amount3                               int64\n",
      "Coverage_Deductible_if_applied                int64\n",
      "Premium                                       int64\n",
      "Replacement_cost_of_insured_vehicle           float64\n",
      "Distribution_Channel                          object\n",
      "Multiple_Products_with_TmNewa_(Yes_or_No?)    float64\n",
      "lia_class                                     int64\n",
      "plia_acc                                      float64\n",
      "pdmg_acc                                      float64\n",
      "fassured                                      int64\n",
      "ibirth                                        object\n",
      "fsex                                          object\n",
      "fmarriage                                     object\n",
      "aassured_zip                                  object\n",
      "iply_area                                     object\n",
      "dbirth                                        object\n",
      "fequipment1                                   int64\n",
      "fequipment2                                   int64\n",
      "fequipment3                                   int64\n",
      "fequipment4                                   int64\n",
      "fequipment5                                   int64\n",
      "fequipment6                                   int64\n",
      "fequipment9                                   int64\n",
      "nequipment9                                   object\n",
      "dtypes: float64(5), int64(17), object(19)\n",
      "memory usage: 546.8+ MB\n"
     ]
    },
    {
     "data": {
      "text/plain": [
       "Index(['Policy_Number', 'Insured's_ID', 'Prior_Policy_Number', 'Cancellation',\n",
       "       'Vehicle_identifier', 'Vehicle_Make_and_Model1',\n",
       "       'Vehicle_Make_and_Model2', 'Manafactured_Year_and_Month',\n",
       "       'Engine_Displacement_(Cubic_Centimeter)', 'Imported_or_Domestic_Car',\n",
       "       'Coding_of_Vehicle_Branding_&_Type', 'qpt', 'fpt',\n",
       "       'Main_Insurance_Coverage_Group', 'Insurance_Coverage',\n",
       "       'Insured_Amount1', 'Insured_Amount2', 'Insured_Amount3',\n",
       "       'Coverage_Deductible_if_applied', 'Premium',\n",
       "       'Replacement_cost_of_insured_vehicle', 'Distribution_Channel',\n",
       "       'Multiple_Products_with_TmNewa_(Yes_or_No?)', 'lia_class', 'plia_acc',\n",
       "       'pdmg_acc', 'fassured', 'ibirth', 'fsex', 'fmarriage', 'aassured_zip',\n",
       "       'iply_area', 'dbirth', 'fequipment1', 'fequipment2', 'fequipment3',\n",
       "       'fequipment4', 'fequipment5', 'fequipment6', 'fequipment9',\n",
       "       'nequipment9'],\n",
       "      dtype='object')"
      ]
     },
     "execution_count": 6,
     "metadata": {},
     "output_type": "execute_result"
    }
   ],
   "source": [
    "policy.head(5)\n",
    "policy.info()\n",
    "policy.columns"
   ]
  },
  {
   "cell_type": "markdown",
   "metadata": {},
   "source": [
    "## 2.Data Exploration"
   ]
  },
  {
   "cell_type": "markdown",
   "metadata": {},
   "source": [
    "***\n",
    "- groupby"
   ]
  },
  {
   "cell_type": "code",
   "execution_count": 11,
   "metadata": {},
   "outputs": [
    {
     "data": {
      "text/html": [
       "<div>\n",
       "<style scoped>\n",
       "    .dataframe tbody tr th:only-of-type {\n",
       "        vertical-align: middle;\n",
       "    }\n",
       "\n",
       "    .dataframe tbody tr th {\n",
       "        vertical-align: top;\n",
       "    }\n",
       "\n",
       "    .dataframe thead th {\n",
       "        text-align: right;\n",
       "    }\n",
       "</style>\n",
       "<table border=\"1\" class=\"dataframe\">\n",
       "  <thead>\n",
       "    <tr style=\"text-align: right;\">\n",
       "      <th></th>\n",
       "      <th>Premium</th>\n",
       "    </tr>\n",
       "    <tr>\n",
       "      <th>Main_Insurance_Coverage_Group</th>\n",
       "      <th></th>\n",
       "    </tr>\n",
       "  </thead>\n",
       "  <tbody>\n",
       "    <tr>\n",
       "      <th>竊盜</th>\n",
       "      <td>40158719</td>\n",
       "    </tr>\n",
       "    <tr>\n",
       "      <th>車損</th>\n",
       "      <td>24249317</td>\n",
       "    </tr>\n",
       "    <tr>\n",
       "      <th>車責</th>\n",
       "      <td>352413707</td>\n",
       "    </tr>\n",
       "  </tbody>\n",
       "</table>\n",
       "</div>"
      ],
      "text/plain": [
       "                                 Premium\n",
       "Main_Insurance_Coverage_Group           \n",
       "竊盜                              40158719\n",
       "車損                              24249317\n",
       "車責                             352413707"
      ]
     },
     "execution_count": 11,
     "metadata": {},
     "output_type": "execute_result"
    }
   ],
   "source": [
    "# 保費小於1000者在不同保險險種下之簽單保費\n",
    "policy[policy['Premium'] < 1000].groupby(by = 'Main_Insurance_Coverage_Group')[['Premium']].sum()"
   ]
  },
  {
   "cell_type": "markdown",
   "metadata": {},
   "source": [
    "***\n",
    "- groupby & sum()"
   ]
  },
  {
   "cell_type": "code",
   "execution_count": 19,
   "metadata": {},
   "outputs": [
    {
     "data": {
      "text/html": [
       "<div>\n",
       "<style scoped>\n",
       "    .dataframe tbody tr th:only-of-type {\n",
       "        vertical-align: middle;\n",
       "    }\n",
       "\n",
       "    .dataframe tbody tr th {\n",
       "        vertical-align: top;\n",
       "    }\n",
       "\n",
       "    .dataframe thead th {\n",
       "        text-align: right;\n",
       "    }\n",
       "</style>\n",
       "<table border=\"1\" class=\"dataframe\">\n",
       "  <thead>\n",
       "    <tr style=\"text-align: right;\">\n",
       "      <th></th>\n",
       "      <th>Premium</th>\n",
       "      <th>Insured_Amount3</th>\n",
       "    </tr>\n",
       "    <tr>\n",
       "      <th>Main_Insurance_Coverage_Group</th>\n",
       "      <th></th>\n",
       "      <th></th>\n",
       "    </tr>\n",
       "  </thead>\n",
       "  <tbody>\n",
       "    <tr>\n",
       "      <th>竊盜</th>\n",
       "      <td>171001652</td>\n",
       "      <td>67009945000</td>\n",
       "    </tr>\n",
       "    <tr>\n",
       "      <th>車損</th>\n",
       "      <td>885384726</td>\n",
       "      <td>83348708500</td>\n",
       "    </tr>\n",
       "    <tr>\n",
       "      <th>車責</th>\n",
       "      <td>1262190896</td>\n",
       "      <td>9129452450000</td>\n",
       "    </tr>\n",
       "  </tbody>\n",
       "</table>\n",
       "</div>"
      ],
      "text/plain": [
       "                                  Premium  Insured_Amount3\n",
       "Main_Insurance_Coverage_Group                             \n",
       "竊盜                              171001652      67009945000\n",
       "車損                              885384726      83348708500\n",
       "車責                             1262190896    9129452450000"
      ]
     },
     "execution_count": 19,
     "metadata": {},
     "output_type": "execute_result"
    }
   ],
   "source": [
    "# 保費大於0者在不同保險險種下之簽單保費與保額三\n",
    "policy.loc[policy['Premium'] > 0].groupby(by = 'Main_Insurance_Coverage_Group')[['Premium','Insured_Amount3']].sum()"
   ]
  },
  {
   "cell_type": "markdown",
   "metadata": {},
   "source": [
    "***\n",
    "- apply (max, argmax)"
   ]
  },
  {
   "cell_type": "code",
   "execution_count": 30,
   "metadata": {
    "scrolled": true
   },
   "outputs": [
    {
     "data": {
      "text/plain": [
       "Premium               504932\n",
       "Insured_Amount3    205000000\n",
       "dtype: int64"
      ]
     },
     "execution_count": 30,
     "metadata": {},
     "output_type": "execute_result"
    }
   ],
   "source": [
    "# 保費大於0者中之最大簽單保費與最大保額三\n",
    "policy.loc[policy['Premium'] > 0].loc[:,['Premium','Insured_Amount3']].apply(max, axis = 0)"
   ]
  },
  {
   "cell_type": "code",
   "execution_count": 63,
   "metadata": {},
   "outputs": [
    {
     "data": {
      "text/plain": [
       "0           10000000\n",
       "1             300000\n",
       "2           60000000\n",
       "3             500000\n",
       "4              65000\n",
       "5            1000000\n",
       "6             200000\n",
       "7            2200000\n",
       "8                184\n",
       "9                 70\n",
       "10                95\n",
       "11              1879\n",
       "12               664\n",
       "13               658\n",
       "14                19\n",
       "15               408\n",
       "16               146\n",
       "17              3406\n",
       "18         100000000\n",
       "19            500000\n",
       "20           6000000\n",
       "21           3000000\n",
       "22            200000\n",
       "23          60000000\n",
       "24            500000\n",
       "25            101000\n",
       "26          18000000\n",
       "27            300000\n",
       "28          30000000\n",
       "29           2000000\n",
       "             ...    \n",
       "1747912      8000000\n",
       "1747913      3000000\n",
       "1747914       450000\n",
       "1747915       450000\n",
       "1747916       450000\n",
       "1747917      8000000\n",
       "1747918       700000\n",
       "1747919      8000000\n",
       "1747920      3000000\n",
       "1747921       600000\n",
       "1747922       100000\n",
       "1747923       839000\n",
       "1747924       839000\n",
       "1747925       839000\n",
       "1747926     36000000\n",
       "1747927       600000\n",
       "1747928        50000\n",
       "1747929      3000000\n",
       "1747930       684000\n",
       "1747931       684000\n",
       "1747932       684000\n",
       "1747933       684000\n",
       "1747934        30000\n",
       "1747935     10000000\n",
       "1747936     24000000\n",
       "1747937       500000\n",
       "1747938       100000\n",
       "1747939        50000\n",
       "1747940      4000000\n",
       "1747941      1000000\n",
       "Length: 1747243, dtype: int64"
      ]
     },
     "execution_count": 63,
     "metadata": {},
     "output_type": "execute_result"
    }
   ],
   "source": [
    "# 保費大於0者中之保額一～保額三之較大column\n",
    "policy.loc[policy['Premium'] > 0].loc[:,['Insured_Amount1','Insured_Amount2','Insured_Amount3']].apply(max, axis = 1)"
   ]
  },
  {
   "cell_type": "code",
   "execution_count": 64,
   "metadata": {},
   "outputs": [
    {
     "data": {
      "text/plain": [
       "0          Insured_Amount3\n",
       "1          Insured_Amount3\n",
       "2          Insured_Amount3\n",
       "3          Insured_Amount3\n",
       "4          Insured_Amount3\n",
       "5          Insured_Amount3\n",
       "6          Insured_Amount3\n",
       "7          Insured_Amount3\n",
       "8          Insured_Amount1\n",
       "9          Insured_Amount1\n",
       "10         Insured_Amount1\n",
       "11         Insured_Amount1\n",
       "12         Insured_Amount1\n",
       "13         Insured_Amount1\n",
       "14         Insured_Amount1\n",
       "15         Insured_Amount1\n",
       "16         Insured_Amount1\n",
       "17         Insured_Amount1\n",
       "18         Insured_Amount3\n",
       "19         Insured_Amount3\n",
       "20         Insured_Amount3\n",
       "21         Insured_Amount3\n",
       "22         Insured_Amount3\n",
       "23         Insured_Amount3\n",
       "24         Insured_Amount3\n",
       "25         Insured_Amount3\n",
       "26         Insured_Amount3\n",
       "27         Insured_Amount3\n",
       "28         Insured_Amount3\n",
       "29         Insured_Amount3\n",
       "                ...       \n",
       "1747912    Insured_Amount3\n",
       "1747913    Insured_Amount3\n",
       "1747914    Insured_Amount3\n",
       "1747915    Insured_Amount3\n",
       "1747916    Insured_Amount3\n",
       "1747917    Insured_Amount3\n",
       "1747918    Insured_Amount3\n",
       "1747919    Insured_Amount3\n",
       "1747920    Insured_Amount3\n",
       "1747921    Insured_Amount3\n",
       "1747922    Insured_Amount3\n",
       "1747923    Insured_Amount3\n",
       "1747924    Insured_Amount3\n",
       "1747925    Insured_Amount3\n",
       "1747926    Insured_Amount3\n",
       "1747927    Insured_Amount3\n",
       "1747928    Insured_Amount3\n",
       "1747929    Insured_Amount3\n",
       "1747930    Insured_Amount3\n",
       "1747931    Insured_Amount3\n",
       "1747932    Insured_Amount3\n",
       "1747933    Insured_Amount3\n",
       "1747934    Insured_Amount3\n",
       "1747935    Insured_Amount3\n",
       "1747936    Insured_Amount3\n",
       "1747937    Insured_Amount3\n",
       "1747938    Insured_Amount3\n",
       "1747939    Insured_Amount3\n",
       "1747940    Insured_Amount3\n",
       "1747941    Insured_Amount3\n",
       "Length: 1747243, dtype: object"
      ]
     },
     "execution_count": 64,
     "metadata": {},
     "output_type": "execute_result"
    }
   ],
   "source": [
    "# 保費大於0者中之保額一～保額三之較大column\n",
    "policy.loc[policy['Premium'] > 0].loc[:,['Insured_Amount1','Insured_Amount2','Insured_Amount3']].apply(np.argmax, axis = 1)"
   ]
  },
  {
   "cell_type": "markdown",
   "metadata": {},
   "source": [
    "***\n",
    "- create column & apply"
   ]
  },
  {
   "cell_type": "code",
   "execution_count": 33,
   "metadata": {},
   "outputs": [
    {
     "data": {
      "text/html": [
       "<div>\n",
       "<style scoped>\n",
       "    .dataframe tbody tr th:only-of-type {\n",
       "        vertical-align: middle;\n",
       "    }\n",
       "\n",
       "    .dataframe tbody tr th {\n",
       "        vertical-align: top;\n",
       "    }\n",
       "\n",
       "    .dataframe thead th {\n",
       "        text-align: right;\n",
       "    }\n",
       "</style>\n",
       "<table border=\"1\" class=\"dataframe\">\n",
       "  <thead>\n",
       "    <tr style=\"text-align: right;\">\n",
       "      <th></th>\n",
       "      <th>Replacement_cost_of_insured_vehicle</th>\n",
       "      <th>Replacement_cost_of_insured_vehicle_ceil</th>\n",
       "    </tr>\n",
       "  </thead>\n",
       "  <tbody>\n",
       "    <tr>\n",
       "      <th>0</th>\n",
       "      <td>45.4</td>\n",
       "      <td>46.0</td>\n",
       "    </tr>\n",
       "    <tr>\n",
       "      <th>1</th>\n",
       "      <td>45.4</td>\n",
       "      <td>46.0</td>\n",
       "    </tr>\n",
       "    <tr>\n",
       "      <th>2</th>\n",
       "      <td>59.9</td>\n",
       "      <td>60.0</td>\n",
       "    </tr>\n",
       "    <tr>\n",
       "      <th>3</th>\n",
       "      <td>59.9</td>\n",
       "      <td>60.0</td>\n",
       "    </tr>\n",
       "    <tr>\n",
       "      <th>4</th>\n",
       "      <td>39.9</td>\n",
       "      <td>40.0</td>\n",
       "    </tr>\n",
       "  </tbody>\n",
       "</table>\n",
       "</div>"
      ],
      "text/plain": [
       "   Replacement_cost_of_insured_vehicle  \\\n",
       "0                                 45.4   \n",
       "1                                 45.4   \n",
       "2                                 59.9   \n",
       "3                                 59.9   \n",
       "4                                 39.9   \n",
       "\n",
       "   Replacement_cost_of_insured_vehicle_ceil  \n",
       "0                                      46.0  \n",
       "1                                      46.0  \n",
       "2                                      60.0  \n",
       "3                                      60.0  \n",
       "4                                      40.0  "
      ]
     },
     "execution_count": 33,
     "metadata": {},
     "output_type": "execute_result"
    }
   ],
   "source": [
    "#創欄位：重置成本之無條件進入取至整數位\n",
    "policy['Replacement_cost_of_insured_vehicle_ceil'] = policy.Replacement_cost_of_insured_vehicle.apply(np.ceil)\n",
    "policy.loc[0:4,['Replacement_cost_of_insured_vehicle', 'Replacement_cost_of_insured_vehicle_ceil']]"
   ]
  },
  {
   "cell_type": "markdown",
   "metadata": {},
   "source": [
    "***\n",
    "- lambda"
   ]
  },
  {
   "cell_type": "code",
   "execution_count": 58,
   "metadata": {},
   "outputs": [
    {
     "data": {
      "text/html": [
       "<div>\n",
       "<style scoped>\n",
       "    .dataframe tbody tr th:only-of-type {\n",
       "        vertical-align: middle;\n",
       "    }\n",
       "\n",
       "    .dataframe tbody tr th {\n",
       "        vertical-align: top;\n",
       "    }\n",
       "\n",
       "    .dataframe thead th {\n",
       "        text-align: right;\n",
       "    }\n",
       "</style>\n",
       "<table border=\"1\" class=\"dataframe\">\n",
       "  <thead>\n",
       "    <tr style=\"text-align: right;\">\n",
       "      <th></th>\n",
       "      <th>Accident_Date</th>\n",
       "      <th>Accident_Month</th>\n",
       "    </tr>\n",
       "  </thead>\n",
       "  <tbody>\n",
       "    <tr>\n",
       "      <th>0</th>\n",
       "      <td>2015/01</td>\n",
       "      <td>01</td>\n",
       "    </tr>\n",
       "    <tr>\n",
       "      <th>1</th>\n",
       "      <td>2015/01</td>\n",
       "      <td>01</td>\n",
       "    </tr>\n",
       "    <tr>\n",
       "      <th>2</th>\n",
       "      <td>2015/01</td>\n",
       "      <td>01</td>\n",
       "    </tr>\n",
       "    <tr>\n",
       "      <th>3</th>\n",
       "      <td>2015/01</td>\n",
       "      <td>01</td>\n",
       "    </tr>\n",
       "    <tr>\n",
       "      <th>4</th>\n",
       "      <td>2015/01</td>\n",
       "      <td>01</td>\n",
       "    </tr>\n",
       "  </tbody>\n",
       "</table>\n",
       "</div>"
      ],
      "text/plain": [
       "  Accident_Date Accident_Month\n",
       "0       2015/01             01\n",
       "1       2015/01             01\n",
       "2       2015/01             01\n",
       "3       2015/01             01\n",
       "4       2015/01             01"
      ]
     },
     "execution_count": 58,
     "metadata": {},
     "output_type": "execute_result"
    }
   ],
   "source": [
    "#創欄位：出險月份\n",
    "claim['Accident_Month'] = claim.Accident_Date.str.split('/').apply(lambda x: x[1])\n",
    "claim.loc[:,['Accident_Date', 'Accident_Month']].head()"
   ]
  },
  {
   "cell_type": "code",
   "execution_count": 59,
   "metadata": {},
   "outputs": [
    {
     "data": {
      "text/plain": [
       "array(['01', '02', '03', '06', '04', '08', '05', '07', '09', '10', '11',\n",
       "       '12'], dtype=object)"
      ]
     },
     "execution_count": 59,
     "metadata": {},
     "output_type": "execute_result"
    }
   ],
   "source": [
    "claim.Accident_Month.unique()"
   ]
  },
  {
   "cell_type": "markdown",
   "metadata": {},
   "source": [
    "***\n",
    "- applymap"
   ]
  },
  {
   "cell_type": "code",
   "execution_count": 77,
   "metadata": {},
   "outputs": [
    {
     "data": {
      "text/html": [
       "<div>\n",
       "<style scoped>\n",
       "    .dataframe tbody tr th:only-of-type {\n",
       "        vertical-align: middle;\n",
       "    }\n",
       "\n",
       "    .dataframe tbody tr th {\n",
       "        vertical-align: top;\n",
       "    }\n",
       "\n",
       "    .dataframe thead th {\n",
       "        text-align: right;\n",
       "    }\n",
       "</style>\n",
       "<table border=\"1\" class=\"dataframe\">\n",
       "  <thead>\n",
       "    <tr style=\"text-align: right;\">\n",
       "      <th></th>\n",
       "      <th>Engine_Displacement_(Cubic_Centimeter)</th>\n",
       "    </tr>\n",
       "  </thead>\n",
       "  <tbody>\n",
       "    <tr>\n",
       "      <th>0</th>\n",
       "      <td>1342.0</td>\n",
       "    </tr>\n",
       "    <tr>\n",
       "      <th>1</th>\n",
       "      <td>1342.0</td>\n",
       "    </tr>\n",
       "    <tr>\n",
       "      <th>2</th>\n",
       "      <td>1794.0</td>\n",
       "    </tr>\n",
       "    <tr>\n",
       "      <th>3</th>\n",
       "      <td>1794.0</td>\n",
       "    </tr>\n",
       "    <tr>\n",
       "      <th>4</th>\n",
       "      <td>1341.0</td>\n",
       "    </tr>\n",
       "  </tbody>\n",
       "</table>\n",
       "</div>"
      ],
      "text/plain": [
       "   Engine_Displacement_(Cubic_Centimeter)\n",
       "0                                  1342.0\n",
       "1                                  1342.0\n",
       "2                                  1794.0\n",
       "3                                  1794.0\n",
       "4                                  1341.0"
      ]
     },
     "execution_count": 77,
     "metadata": {},
     "output_type": "execute_result"
    }
   ],
   "source": [
    "#針對選取出的表格，對每個cel取float\n",
    "#排氣量大於1000者，將其排氣量改為float\n",
    "policy.loc[policy['Engine_Displacement_(Cubic_Centimeter)'] > 1000].loc[:,['Engine_Displacement_(Cubic_Centimeter)']].applymap(float).head()"
   ]
  },
  {
   "cell_type": "code",
   "execution_count": 78,
   "metadata": {},
   "outputs": [
    {
     "data": {
      "text/html": [
       "<div>\n",
       "<style scoped>\n",
       "    .dataframe tbody tr th:only-of-type {\n",
       "        vertical-align: middle;\n",
       "    }\n",
       "\n",
       "    .dataframe tbody tr th {\n",
       "        vertical-align: top;\n",
       "    }\n",
       "\n",
       "    .dataframe thead th {\n",
       "        text-align: right;\n",
       "    }\n",
       "</style>\n",
       "<table border=\"1\" class=\"dataframe\">\n",
       "  <thead>\n",
       "    <tr style=\"text-align: right;\">\n",
       "      <th></th>\n",
       "      <th>Engine_Displacement_(Cubic_Centimeter)</th>\n",
       "    </tr>\n",
       "  </thead>\n",
       "  <tbody>\n",
       "    <tr>\n",
       "      <th>0</th>\n",
       "      <td>1342.00</td>\n",
       "    </tr>\n",
       "    <tr>\n",
       "      <th>1</th>\n",
       "      <td>1342.00</td>\n",
       "    </tr>\n",
       "    <tr>\n",
       "      <th>2</th>\n",
       "      <td>1794.00</td>\n",
       "    </tr>\n",
       "    <tr>\n",
       "      <th>3</th>\n",
       "      <td>1794.00</td>\n",
       "    </tr>\n",
       "    <tr>\n",
       "      <th>4</th>\n",
       "      <td>1341.00</td>\n",
       "    </tr>\n",
       "  </tbody>\n",
       "</table>\n",
       "</div>"
      ],
      "text/plain": [
       "  Engine_Displacement_(Cubic_Centimeter)\n",
       "0                                1342.00\n",
       "1                                1342.00\n",
       "2                                1794.00\n",
       "3                                1794.00\n",
       "4                                1341.00"
      ]
     },
     "execution_count": 78,
     "metadata": {},
     "output_type": "execute_result"
    }
   ],
   "source": [
    "format = lambda x: '%.2f' % x\n",
    "policy.loc[policy['Engine_Displacement_(Cubic_Centimeter)'] > 1000].loc[:,['Engine_Displacement_(Cubic_Centimeter)']].applymap(format).head()"
   ]
  },
  {
   "cell_type": "code",
   "execution_count": 82,
   "metadata": {},
   "outputs": [],
   "source": [
    "#利用map定義字典格式，以作轉換\n",
    "#將車系代號轉為中文類別\n",
    "policy['Imported_or_Domestic_Car_Cate'] =  policy.Imported_or_Domestic_Car.map({10:'國產車',20:'美國車',\n",
    "21:'福特', 22:'通用', 23:'克萊斯勒', 24:'美規日車',30:'歐洲車',40:'日本車',50:'韓國車',90:'其它'})"
   ]
  },
  {
   "cell_type": "code",
   "execution_count": 83,
   "metadata": {},
   "outputs": [
    {
     "data": {
      "text/html": [
       "<div>\n",
       "<style scoped>\n",
       "    .dataframe tbody tr th:only-of-type {\n",
       "        vertical-align: middle;\n",
       "    }\n",
       "\n",
       "    .dataframe tbody tr th {\n",
       "        vertical-align: top;\n",
       "    }\n",
       "\n",
       "    .dataframe thead th {\n",
       "        text-align: right;\n",
       "    }\n",
       "</style>\n",
       "<table border=\"1\" class=\"dataframe\">\n",
       "  <thead>\n",
       "    <tr style=\"text-align: right;\">\n",
       "      <th></th>\n",
       "      <th>Imported_or_Domestic_Car</th>\n",
       "      <th>Imported_or_Domestic_Car_Cate</th>\n",
       "    </tr>\n",
       "  </thead>\n",
       "  <tbody>\n",
       "    <tr>\n",
       "      <th>0</th>\n",
       "      <td>10</td>\n",
       "      <td>國產車</td>\n",
       "    </tr>\n",
       "    <tr>\n",
       "      <th>1</th>\n",
       "      <td>10</td>\n",
       "      <td>國產車</td>\n",
       "    </tr>\n",
       "    <tr>\n",
       "      <th>2</th>\n",
       "      <td>10</td>\n",
       "      <td>國產車</td>\n",
       "    </tr>\n",
       "    <tr>\n",
       "      <th>3</th>\n",
       "      <td>10</td>\n",
       "      <td>國產車</td>\n",
       "    </tr>\n",
       "    <tr>\n",
       "      <th>4</th>\n",
       "      <td>10</td>\n",
       "      <td>國產車</td>\n",
       "    </tr>\n",
       "  </tbody>\n",
       "</table>\n",
       "</div>"
      ],
      "text/plain": [
       "   Imported_or_Domestic_Car Imported_or_Domestic_Car_Cate\n",
       "0                        10                           國產車\n",
       "1                        10                           國產車\n",
       "2                        10                           國產車\n",
       "3                        10                           國產車\n",
       "4                        10                           國產車"
      ]
     },
     "execution_count": 83,
     "metadata": {},
     "output_type": "execute_result"
    }
   ],
   "source": [
    "policy.loc[0:4,['Imported_or_Domestic_Car','Imported_or_Domestic_Car_Cate']]"
   ]
  },
  {
   "cell_type": "code",
   "execution_count": null,
   "metadata": {},
   "outputs": [],
   "source": []
  }
 ],
 "metadata": {
  "kernelspec": {
   "display_name": "Python 3",
   "language": "python",
   "name": "python3"
  },
  "language_info": {
   "codemirror_mode": {
    "name": "ipython",
    "version": 3
   },
   "file_extension": ".py",
   "mimetype": "text/x-python",
   "name": "python",
   "nbconvert_exporter": "python",
   "pygments_lexer": "ipython3",
   "version": "3.6.5"
  }
 },
 "nbformat": 4,
 "nbformat_minor": 2
}
